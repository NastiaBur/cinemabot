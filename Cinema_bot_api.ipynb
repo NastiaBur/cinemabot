{
  "nbformat": 4,
  "nbformat_minor": 0,
  "metadata": {
    "colab": {
      "provenance": []
    },
    "kernelspec": {
      "name": "python3",
      "display_name": "Python 3"
    },
    "language_info": {
      "name": "python"
    }
  },
  "cells": [
    {
      "cell_type": "markdown",
      "source": [
        "# Для иви"
      ],
      "metadata": {
        "id": "XfWBkY-wt_8h"
      }
    },
    {
      "cell_type": "code",
      "execution_count": 40,
      "metadata": {
        "colab": {
          "base_uri": "https://localhost:8080/"
        },
        "id": "AuzFXXFLt2NN",
        "outputId": "9e6a1798-5f49-4363-cff1-16f6a0720a00"
      },
      "outputs": [
        {
          "output_type": "stream",
          "name": "stdout",
          "text": [
            "[8.38, 'https://www.ivi.ru/watch/208079']\n"
          ]
        }
      ],
      "source": [
        "from urllib.request import urlopen\n",
        "import json\n",
        "from urllib.parse import quote\n",
        "\n",
        "def ivi_parser(film):\n",
        "  url = \"https://api.ivi.ru/mobileapi/search/v7/?query=\" + quote(film) + '&app_version=23801'\n",
        "\n",
        "  response = urlopen(url)\n",
        "  data = json.loads(response.read())\n",
        "  for i in data['result']:\n",
        "    if i['title'] == film:\n",
        "      return [i['ivi_rating_10'], i['share_link']]\n",
        "\n",
        "print(ivi_parser('Папы'))"
      ]
    },
    {
      "cell_type": "markdown",
      "source": [
        "# Для окко"
      ],
      "metadata": {
        "id": "c17t2rYCuJbL"
      }
    },
    {
      "cell_type": "code",
      "source": [
        "!pip install furl"
      ],
      "metadata": {
        "colab": {
          "base_uri": "https://localhost:8080/"
        },
        "id": "AG5CftEmwam7",
        "outputId": "81e4bea2-fe68-4a80-a767-3b9e3aa72a17"
      },
      "execution_count": null,
      "outputs": [
        {
          "output_type": "stream",
          "name": "stdout",
          "text": [
            "Collecting furl\n",
            "  Downloading furl-2.1.3-py2.py3-none-any.whl (20 kB)\n",
            "Requirement already satisfied: six>=1.8.0 in /usr/local/lib/python3.10/dist-packages (from furl) (1.16.0)\n",
            "Collecting orderedmultidict>=1.0.1 (from furl)\n",
            "  Downloading orderedmultidict-1.0.1-py2.py3-none-any.whl (11 kB)\n",
            "Installing collected packages: orderedmultidict, furl\n",
            "Successfully installed furl-2.1.3 orderedmultidict-1.0.1\n"
          ]
        }
      ]
    },
    {
      "cell_type": "code",
      "source": [
        "!pip install"
      ],
      "metadata": {
        "colab": {
          "base_uri": "https://localhost:8080/"
        },
        "id": "Z4knl7AFuMD1",
        "outputId": "fa3c51b8-95c7-4044-8135-757b67822479"
      },
      "execution_count": null,
      "outputs": [
        {
          "output_type": "stream",
          "name": "stdout",
          "text": [
            "\u001b[31mERROR: Could not find a version that satisfies the requirement urllib (from versions: none)\u001b[0m\u001b[31m\n",
            "\u001b[0m\u001b[31mERROR: No matching distribution found for urllib\u001b[0m\u001b[31m\n",
            "\u001b[0m"
          ]
        }
      ]
    },
    {
      "cell_type": "code",
      "source": [
        "!pip install bs2json"
      ],
      "metadata": {
        "id": "rJHLPQmvu61x",
        "colab": {
          "base_uri": "https://localhost:8080/"
        },
        "outputId": "1b26408b-7b04-4c88-c9c4-7e2cf740276b"
      },
      "execution_count": 3,
      "outputs": [
        {
          "output_type": "stream",
          "name": "stdout",
          "text": [
            "Collecting bs2json\n",
            "  Downloading bs2json-0.1.2-py3-none-any.whl (6.6 kB)\n",
            "Collecting bs4>=0.0.1 (from bs2json)\n",
            "  Downloading bs4-0.0.1.tar.gz (1.1 kB)\n",
            "  Preparing metadata (setup.py) ... \u001b[?25l\u001b[?25hdone\n",
            "Requirement already satisfied: beautifulsoup4 in /usr/local/lib/python3.10/dist-packages (from bs4>=0.0.1->bs2json) (4.11.2)\n",
            "Requirement already satisfied: soupsieve>1.2 in /usr/local/lib/python3.10/dist-packages (from beautifulsoup4->bs4>=0.0.1->bs2json) (2.5)\n",
            "Building wheels for collected packages: bs4\n",
            "  Building wheel for bs4 (setup.py) ... \u001b[?25l\u001b[?25hdone\n",
            "  Created wheel for bs4: filename=bs4-0.0.1-py3-none-any.whl size=1257 sha256=f84a42dd3b9077956ae894a870bab1a4a26580733236c433b351b98b058e8a5a\n",
            "  Stored in directory: /root/.cache/pip/wheels/25/42/45/b773edc52acb16cd2db4cf1a0b47117e2f69bb4eb300ed0e70\n",
            "Successfully built bs4\n",
            "Installing collected packages: bs4, bs2json\n",
            "Successfully installed bs2json-0.1.2 bs4-0.0.1\n"
          ]
        }
      ]
    },
    {
      "cell_type": "code",
      "source": [
        "from bs4 import BeautifulSoup\n",
        "import requests\n",
        "import re\n",
        "import json\n",
        "from bs2json import BS2Json\n",
        "from urllib.parse import quote\n",
        "\n",
        "url2 = 'https://okko.tv/search/1+1'\n",
        "\n",
        "print(url2)\n",
        "response = requests.get(url2)\n",
        "bs = BeautifulSoup(response.text,\"lxml\")\n",
        "\n",
        "print(response)\n",
        "\n",
        "temp = bs.find('div', {\"class\" : 'bFSgNuIP o8gJXB0e'})\n",
        "print(temp)\n",
        "bs2json = BS2Json(temp)\n",
        "\n",
        "\n",
        "json_obj = bs2json.convert()\n",
        "print(json_obj)\n",
        "if type(json_obj['div']['div']) == type(list()):\n",
        "    print(json_obj['div']['div'][0]['a']['attrs']['aria-label'])\n",
        "else:\n",
        "    print('https://okko.tv' + json_obj['div']['div']['a']['attrs']['href'])\n"
      ],
      "metadata": {
        "colab": {
          "base_uri": "https://localhost:8080/",
          "height": 315
        },
        "id": "hoWtqsROuRjf",
        "outputId": "2bf3d78a-a825-4740-b63b-1727d979aed4"
      },
      "execution_count": null,
      "outputs": [
        {
          "output_type": "stream",
          "name": "stdout",
          "text": [
            "https://okko.tv/search/1+1\n",
            "<Response [403]>\n",
            "None\n",
            "{}\n"
          ]
        },
        {
          "output_type": "error",
          "ename": "KeyError",
          "evalue": "ignored",
          "traceback": [
            "\u001b[0;31m---------------------------------------------------------------------------\u001b[0m",
            "\u001b[0;31mKeyError\u001b[0m                                  Traceback (most recent call last)",
            "\u001b[0;32m<ipython-input-34-183da152c2c8>\u001b[0m in \u001b[0;36m<cell line: 23>\u001b[0;34m()\u001b[0m\n\u001b[1;32m     21\u001b[0m \u001b[0mjson_obj\u001b[0m \u001b[0;34m=\u001b[0m \u001b[0mbs2json\u001b[0m\u001b[0;34m.\u001b[0m\u001b[0mconvert\u001b[0m\u001b[0;34m(\u001b[0m\u001b[0;34m)\u001b[0m\u001b[0;34m\u001b[0m\u001b[0;34m\u001b[0m\u001b[0m\n\u001b[1;32m     22\u001b[0m \u001b[0mprint\u001b[0m\u001b[0;34m(\u001b[0m\u001b[0mjson_obj\u001b[0m\u001b[0;34m)\u001b[0m\u001b[0;34m\u001b[0m\u001b[0;34m\u001b[0m\u001b[0m\n\u001b[0;32m---> 23\u001b[0;31m \u001b[0;32mif\u001b[0m \u001b[0mtype\u001b[0m\u001b[0;34m(\u001b[0m\u001b[0mjson_obj\u001b[0m\u001b[0;34m[\u001b[0m\u001b[0;34m'div'\u001b[0m\u001b[0;34m]\u001b[0m\u001b[0;34m[\u001b[0m\u001b[0;34m'div'\u001b[0m\u001b[0;34m]\u001b[0m\u001b[0;34m)\u001b[0m \u001b[0;34m==\u001b[0m \u001b[0mtype\u001b[0m\u001b[0;34m(\u001b[0m\u001b[0mlist\u001b[0m\u001b[0;34m(\u001b[0m\u001b[0;34m)\u001b[0m\u001b[0;34m)\u001b[0m\u001b[0;34m:\u001b[0m\u001b[0;34m\u001b[0m\u001b[0;34m\u001b[0m\u001b[0m\n\u001b[0m\u001b[1;32m     24\u001b[0m     \u001b[0mprint\u001b[0m\u001b[0;34m(\u001b[0m\u001b[0mjson_obj\u001b[0m\u001b[0;34m[\u001b[0m\u001b[0;34m'div'\u001b[0m\u001b[0;34m]\u001b[0m\u001b[0;34m[\u001b[0m\u001b[0;34m'div'\u001b[0m\u001b[0;34m]\u001b[0m\u001b[0;34m[\u001b[0m\u001b[0;36m0\u001b[0m\u001b[0;34m]\u001b[0m\u001b[0;34m[\u001b[0m\u001b[0;34m'a'\u001b[0m\u001b[0;34m]\u001b[0m\u001b[0;34m[\u001b[0m\u001b[0;34m'attrs'\u001b[0m\u001b[0;34m]\u001b[0m\u001b[0;34m[\u001b[0m\u001b[0;34m'aria-label'\u001b[0m\u001b[0;34m]\u001b[0m\u001b[0;34m)\u001b[0m\u001b[0;34m\u001b[0m\u001b[0;34m\u001b[0m\u001b[0m\n\u001b[1;32m     25\u001b[0m \u001b[0;32melse\u001b[0m\u001b[0;34m:\u001b[0m\u001b[0;34m\u001b[0m\u001b[0;34m\u001b[0m\u001b[0m\n",
            "\u001b[0;31mKeyError\u001b[0m: 'div'"
          ]
        }
      ]
    },
    {
      "cell_type": "code",
      "source": [
        "!pip install urllib"
      ],
      "metadata": {
        "colab": {
          "base_uri": "https://localhost:8080/"
        },
        "id": "4JrN2tdv5ND4",
        "outputId": "b5dbb631-2ed3-4004-9a42-5166069d8e5a"
      },
      "execution_count": null,
      "outputs": [
        {
          "output_type": "stream",
          "name": "stdout",
          "text": [
            "\u001b[31mERROR: Could not find a version that satisfies the requirement urllib (from versions: none)\u001b[0m\u001b[31m\n",
            "\u001b[0m\u001b[31mERROR: No matching distribution found for urllib\u001b[0m\u001b[31m\n",
            "\u001b[0m"
          ]
        }
      ]
    },
    {
      "cell_type": "code",
      "source": [
        "from urllib.request import urlopen\n",
        "\n",
        "# import json\n",
        "import json\n",
        "\n",
        "import urllib\n",
        "\n",
        "\n",
        "url = \"https://okko.tv/serial/volshebnyjj-uchastok\"\n",
        "headers={'User-Agent':user_agent,}\n",
        "\n",
        "\n",
        "response = urlopen(request)\n",
        "data = response.read()\n",
        "print(response)\n",
        "# store the URL in url as\n",
        "# paramettps://code.okko.tv/?ysclid=lphgmjqviq81644144er for urlopen\n",
        "\n",
        "\n"
      ],
      "metadata": {
        "id": "hCU_9QhW0MNJ"
      },
      "execution_count": null,
      "outputs": []
    },
    {
      "cell_type": "code",
      "source": [],
      "metadata": {
        "id": "NaplI8WBxcsj"
      },
      "execution_count": null,
      "outputs": []
    },
    {
      "cell_type": "markdown",
      "source": [
        "# Для https://w140.zona.plus"
      ],
      "metadata": {
        "id": "nuh2slgy3ls9"
      }
    },
    {
      "cell_type": "code",
      "source": [
        "from bs4 import BeautifulSoup\n",
        "import requests\n",
        "import re\n",
        "import json\n",
        "from bs2json import BS2Json\n",
        "\n",
        "\n",
        "def zona_parser(film, y):\n",
        "  url = 'https://w140.zona.plus/search/' + quote(film)\n",
        "\n",
        "  response = requests.get(url)\n",
        "\n",
        "  bs = BeautifulSoup(response.text,\"lxml\")\n",
        "\n",
        "\n",
        "  temp = bs.find('ul', {\"class\" : 'results'})\n",
        "  if temp:\n",
        "    bs2json = BS2Json(temp)\n",
        "    json_obj = bs2json.convert()\n",
        "    #print(json_obj)\n",
        "    for i in range(len(json_obj['ul']['li'])):\n",
        "      name = ''\n",
        "      year = ''\n",
        "      try:\n",
        "        name = json_obj['ul']['li'][i]['a']['div'][1]['div']['text']\n",
        "        try:\n",
        "          year = json_obj['ul']['li'][i]['a']['div'][1]['span'][1]['text']\n",
        "        except:\n",
        "          year = json_obj['ul']['li'][i]['a']['div'][1]['span']['text']\n",
        "        print(name, year)\n",
        "      except:\n",
        "        pass\n",
        "\n",
        "\n",
        "      if name == film and year == y:\n",
        "       return ('https://w140.zona.plus' + json_obj['ul']['li'][i]['a']['attrs']['href'])\n",
        "    return ('https://w140.zona.plus' + json_obj['ul']['li'][0]['a']['attrs']['href'])\n",
        "  return ''\n",
        "\n",
        "\n",
        "\n",
        "print(zona_parser('1+1', ''))"
      ],
      "metadata": {
        "colab": {
          "base_uri": "https://localhost:8080/"
        },
        "id": "ifSbzPekxO6o",
        "outputId": "66dfd74f-a560-477e-9518-3a75f9f4e0d0"
      },
      "execution_count": 51,
      "outputs": [
        {
          "output_type": "stream",
          "name": "stdout",
          "text": [
            "1+1 2011\n",
            "1/1 2018\n",
            "911 служба спасения 2018\n",
            "1+1 дома 2013\n",
            "1+1: Голливудская история 2018\n",
            "1+1. Нарушая правила 2016\n",
            "Враг общества 3: Возвращение 2008\n",
            "Полтора рыцаря: В поисках похищенной принцессы Херцелинды 2008\n",
            "1 2013\n",
            "+1 2013\n",
            "2+1 2016\n",
            "Зайцев + 1 2011\n",
            "Ичи-киллер 2001\n",
            "Карантин Z 2018\n",
            "Гангстер №1 2000\n",
            "Макрон 1 1986\n",
            "Один из тринадцати 1969\n",
            "1:54 2016\n",
            "Допросная номер один 2020\n",
            "Носильщик №1 2020\n",
            "Один доллар 2017\n",
            "Один 2014\n",
            "1+Эверест 2017\n",
            "Аккумулятор 1993\n",
            "Икар-1 1963\n",
            "2+1=... 2003\n",
            "Цель №1 1997\n",
            "Правило №1 2008\n",
            "Носильщик №1 1995\n",
            "29+1 2017\n",
            "Один день 2009\n",
            "Киноскоп-1 1986\n",
            "Дон №1 2007\n",
            "Свадьба №1 2005\n",
            "Не прикасайся ко мне 1971\n",
            "1 минуту 2010\n",
            "Республика Корея 1% 2010\n",
            "Герой №1 1997\n",
            "Девушка №1 2005\n",
            "Формула-1 1991\n",
            "Лоро 1 2018\n",
            "Гамби 1995\n",
            "Киборг 009-1 2006\n",
            "PVC-1 2007\n",
            "Миллион долларов 2011\n",
            "Пятьдесят к одному 2014\n",
            "Не верь никому 2019\n",
            "Жена номер один 1999\n",
            "Любимая невестка 2000\n",
            "2 в 1 2010\n",
            "Пришельцы. Часть 1 2022\n",
            "Золотые прииски Колара: Глава 1 2018\n",
            "Враг государства №1 2008\n",
            "Она. Глава первая 2023\n",
            "Паразит: Часть 1 2014\n",
            "Заряженное оружие 1 1993\n",
            "1-й Скорый 2006\n",
            "Десять с половиной 2010\n",
            "Переполох в летнем лагере 2010\n",
            "Евгений Гришковец: +1 2013\n",
            "https://w140.zona.plus/movies/1-1-2011\n"
          ]
        }
      ]
    },
    {
      "cell_type": "code",
      "source": [],
      "metadata": {
        "id": "W2EVvZj67-Yx"
      },
      "execution_count": null,
      "outputs": []
    }
  ]
}