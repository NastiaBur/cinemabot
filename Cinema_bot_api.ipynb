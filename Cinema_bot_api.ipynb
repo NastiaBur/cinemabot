{
  "nbformat": 4,
  "nbformat_minor": 0,
  "metadata": {
    "colab": {
      "provenance": []
    },
    "kernelspec": {
      "name": "python3",
      "display_name": "Python 3"
    },
    "language_info": {
      "name": "python"
    }
  },
  "cells": [
    {
      "cell_type": "markdown",
      "source": [
        "# Для иви"
      ],
      "metadata": {
        "id": "XfWBkY-wt_8h"
      }
    },
    {
      "cell_type": "code",
      "execution_count": null,
      "metadata": {
        "colab": {
          "base_uri": "https://localhost:8080/"
        },
        "id": "AuzFXXFLt2NN",
        "outputId": "8d599d3b-8e9c-4efb-ae87-023c70649df8"
      },
      "outputs": [
        {
          "output_type": "stream",
          "name": "stdout",
          "text": [
            "[8.98, 'https://www.ivi.ru/watch/109726']\n"
          ]
        }
      ],
      "source": [
        "from urllib.request import urlopen\n",
        "import json\n",
        "from urllib.parse import quote\n",
        "\n",
        "def ivi_parser(film):\n",
        "  url = \"https://api.ivi.ru/mobileapi/search/v7/?query=\" + quote(film) + '&app_version=23801'\n",
        "\n",
        "  response = urlopen(url)\n",
        "  data = json.loads(response.read())\n",
        "  for i in data['result']:\n",
        "    if i['title'] == film:\n",
        "      return [i['ivi_rating_10'], i['share_link']]\n",
        "\n",
        "print(ivi_parser('1+1'))"
      ]
    },
    {
      "cell_type": "markdown",
      "source": [
        "# Для окко"
      ],
      "metadata": {
        "id": "c17t2rYCuJbL"
      }
    },
    {
      "cell_type": "code",
      "source": [
        "from urllib.parse import quote\n",
        "\n",
        "def okko_parser(film):\n",
        "  url = 'https://okko.tv/search/' + quote(film)\n",
        "  return url\n",
        "\n",
        "\n",
        "\n",
        "print(okko_parser('легенда 17'))\n",
        "\n",
        "\n",
        "\n",
        "\n",
        "\n",
        "# response = requests.get(url2)\n",
        "# bs = BeautifulSoup(response.text,\"lxml\")\n",
        "\n",
        "# print(response)\n",
        "\n",
        "# temp = bs.find('div', {\"class\" : 'bFSgNuIP o8gJXB0e'})\n",
        "# print(temp)\n",
        "# bs2json = BS2Json(temp)\n",
        "\n",
        "\n",
        "# json_obj = bs2json.convert()\n",
        "# print(json_obj)\n",
        "# if type(json_obj['div']['div']) == type(list()):\n",
        "#     print(json_obj['div']['div'][0]['a']['attrs']['aria-label'])\n",
        "# else:\n",
        "#     print('https://okko.tv' + json_obj['div']['div']['a']['attrs']['href'])\n"
      ],
      "metadata": {
        "colab": {
          "base_uri": "https://localhost:8080/"
        },
        "id": "hoWtqsROuRjf",
        "outputId": "a0fcd38b-2584-4037-e6b5-cf36b892b969"
      },
      "execution_count": null,
      "outputs": [
        {
          "output_type": "stream",
          "name": "stdout",
          "text": [
            "https://okko.tv/search/%D0%BB%D0%B5%D0%B3%D0%B5%D0%BD%D0%B4%D0%B0%2017\n"
          ]
        }
      ]
    },
    {
      "cell_type": "code",
      "source": [
        "# from urllib.request import urlopen\n",
        "\n",
        "# # import json\n",
        "# import requests\n",
        "\n",
        "# import urllib\n",
        "\n",
        "\n",
        "# url = \"https://okko.tv/serial/volshebnyjj-uchastok\"\n",
        "# #headers={'User-Agent':user_agent,}\n",
        "\n",
        "# response = requests.get(url)\n",
        "\n",
        "# print(response)\n",
        "\n",
        "\n"
      ],
      "metadata": {
        "colab": {
          "base_uri": "https://localhost:8080/"
        },
        "id": "hCU_9QhW0MNJ",
        "outputId": "99512f54-fe7b-4e6b-87a6-383d075fb7c4"
      },
      "execution_count": null,
      "outputs": [
        {
          "output_type": "stream",
          "name": "stdout",
          "text": [
            "<Response [403]>\n"
          ]
        }
      ]
    },
    {
      "cell_type": "code",
      "source": [],
      "metadata": {
        "id": "NaplI8WBxcsj"
      },
      "execution_count": null,
      "outputs": []
    },
    {
      "cell_type": "markdown",
      "source": [
        "# Для https://w140.zona.plus"
      ],
      "metadata": {
        "id": "nuh2slgy3ls9"
      }
    },
    {
      "cell_type": "code",
      "source": [
        "!pip install bs4\n",
        "!pip install bs2json"
      ],
      "metadata": {
        "id": "71VPLXNnSwCO"
      },
      "execution_count": null,
      "outputs": []
    },
    {
      "cell_type": "code",
      "source": [
        "from bs4 import BeautifulSoup\n",
        "import requests\n",
        "import re\n",
        "import json\n",
        "from bs2json import BS2Json\n",
        "from urllib.parse import quote\n",
        "\n",
        "def zona_parser(film, y):\n",
        "  url = 'https://w140.zona.plus/search/' + quote(film)\n",
        "\n",
        "  response = requests.get(url)\n",
        "\n",
        "  bs = BeautifulSoup(response.text,\"lxml\")\n",
        "\n",
        "\n",
        "  temp = bs.find('ul', {\"class\" : 'results'})\n",
        "  if temp:\n",
        "    bs2json = BS2Json(temp)\n",
        "    json_obj = bs2json.convert()\n",
        "    #print(json_obj)\n",
        "    for i in range(len(json_obj['ul']['li'])):\n",
        "      name = ''\n",
        "      year = ''\n",
        "      try:\n",
        "        name = json_obj['ul']['li'][i]['a']['div'][1]['div']['text']\n",
        "        try:\n",
        "          year = json_obj['ul']['li'][i]['a']['div'][1]['span'][1]['text']\n",
        "        except:\n",
        "          year = json_obj['ul']['li'][i]['a']['div'][1]['span']['text']\n",
        "        print(name, year)\n",
        "      except:\n",
        "        pass\n",
        "\n",
        "\n",
        "      if name == film and year == y:\n",
        "       return ('https://w140.zona.plus' + json_obj['ul']['li'][i]['a']['attrs']['href'])\n",
        "    return ('https://w140.zona.plus' + json_obj['ul']['li'][0]['a']['attrs']['href'])\n",
        "  return ''\n",
        "\n",
        "\n",
        "\n",
        "print(zona_parser('Дневники вампира', ''))"
      ],
      "metadata": {
        "colab": {
          "base_uri": "https://localhost:8080/"
        },
        "id": "ifSbzPekxO6o",
        "outputId": "fe64ce68-6640-4863-fe36-d8f8c11d4f9d"
      },
      "execution_count": null,
      "outputs": [
        {
          "output_type": "stream",
          "name": "stdout",
          "text": [
            "Дневники вампира 2009\n",
            "Дневники вампира 1997\n",
            "https://w140.zona.plus/tvseries/dnevniki-vampira-2009\n"
          ]
        }
      ]
    },
    {
      "cell_type": "markdown",
      "source": [
        "# Для лордфильм"
      ],
      "metadata": {
        "id": "sx4S8ufn9N14"
      }
    },
    {
      "cell_type": "code",
      "source": [
        "from bs4 import BeautifulSoup\n",
        "import requests\n",
        "import re\n",
        "import json\n",
        "from bs2json import BS2Json\n",
        "from urllib.parse import quote\n",
        "\n",
        "url = 'https://fd.lordfilms.cc/index.php?do=search&subaction=search&story=' + quote('Дневники вампира')\n",
        "\n",
        "print(url)\n",
        "response = requests.get(url)\n",
        "bs = BeautifulSoup(response.text,\"lxml\")\n",
        "\n",
        "\n",
        "temp = bs.find('main', {\"class\" : \"main\"})\n",
        "print(response)\n",
        "\n",
        "#print(temp)\n",
        "bs2json = BS2Json(temp)\n",
        "json_obj = bs2json.convert()\n",
        "films=[]\n",
        "try:\n",
        "  films = json_obj['main']['div'][1]['div']\n",
        "  print(films)\n",
        "except:\n",
        "  print('no film')\n",
        "if type(films) != type(list()):\n",
        "  print(films['a']['attrs']['href'])\n",
        "  print(films['a']['div'][1]['div'][0]['text'])\n",
        "for i in films:\n",
        "  try:\n",
        "    print(i['a']['attrs']['href'])\n",
        "    print(i['a']['div'][1]['div'][0]['text'])\n",
        "  except:\n",
        "    pass\n"
      ],
      "metadata": {
        "colab": {
          "base_uri": "https://localhost:8080/"
        },
        "id": "72MhwB0EHgXz",
        "outputId": "b9c15ba3-2f38-4937-e92f-7400b44cf5f0"
      },
      "execution_count": null,
      "outputs": [
        {
          "output_type": "stream",
          "name": "stdout",
          "text": [
            "https://fd.lordfilms.cc/index.php?do=search&subaction=search&story=%D0%94%D0%BD%D0%B5%D0%B2%D0%BD%D0%B8%D0%BA%D0%B8%20%D0%B2%D0%B0%D0%BC%D0%BF%D0%B8%D1%80%D0%B0\n",
            "<Response [200]>\n",
            "[{'attrs': {'class': ['th-item']}, 'a': {'attrs': {'class': ['th-in', 'with-mask'], 'href': 'https://fd.lordfilms.cc/53686-dnevniki-vampira-hd23.html'}, 'div': [{'attrs': {'class': ['th-img', 'img-resp-vert']}, 'img': {'attrs': {'src': '/uploads/posts/2023-10/610x900_32027.webp', 'alt': 'Дневники вампира'}}}, {'attrs': {'class': ['th-desc']}, 'div': [{'attrs': {'class': ['th-title']}, 'text': 'Дневники вампира'}, {'attrs': {'class': ['th-year']}, 'text': 'HD (720p)'}, {'attrs': {'class': ['th-rates', 'fx-row']}, 'div': [{'attrs': {'class': ['th-rate', 'th-rate-kp'], 'data-text': 'kp'}, 'span': '5.9'}, {'attrs': {'class': ['th-rate', 'th-rate-imdb'], 'data-text': 'imdb'}, 'span': '5.5'}]}]}, {'attrs': {'class': ['th-mask', 'fx-col', 'fx-center', 'fx-middle', 'anim']}, 'span': {'attrs': {'class': ['fa', 'fa-play']}}}]}}, {'attrs': {'class': ['th-item']}, 'a': {'attrs': {'class': ['th-in', 'with-mask'], 'href': 'https://fd.lordfilms.cc/8250-dnevniki-vampira-hd27.html'}, 'div': [{'attrs': {'class': ['th-img', 'img-resp-vert']}, 'img': {'attrs': {'src': '/uploads/posts/2023-10/610x900_394.jpg', 'alt': 'Дневники вампира'}}}, {'attrs': {'class': ['th-desc']}, 'div': [{'attrs': {'class': ['th-title']}, 'text': 'Дневники вампира'}, {'attrs': {'class': ['th-year']}, 'text': 'FHD (1080p)'}, {'attrs': {'class': ['th-rates', 'fx-row']}, 'div': [{'attrs': {'class': ['th-rate', 'th-rate-kp'], 'data-text': 'kp'}, 'span': '7.9'}, {'attrs': {'class': ['th-rate', 'th-rate-imdb'], 'data-text': 'imdb'}, 'span': '7.7'}]}]}, {'attrs': {'class': ['th-series']}, 'text': '1-8 сезон'}, {'attrs': {'class': ['th-mask', 'fx-col', 'fx-center', 'fx-middle', 'anim']}, 'span': {'attrs': {'class': ['fa', 'fa-play']}}}]}}]\n",
            "https://fd.lordfilms.cc/53686-dnevniki-vampira-hd23.html\n",
            "Дневники вампира\n",
            "https://fd.lordfilms.cc/8250-dnevniki-vampira-hd27.html\n",
            "Дневники вампира\n"
          ]
        }
      ]
    },
    {
      "cell_type": "code",
      "source": [
        "from bs4 import BeautifulSoup\n",
        "import requests\n",
        "import re\n",
        "import json\n",
        "from bs2json import BS2Json\n",
        "from urllib.parse import quote\n",
        "\n",
        "url = 'https://281123.lordfilm3.black/index.php?do=search&subaction=search&story=' + quote('Секс в большом городе')\n",
        "\n",
        "print(url)\n",
        "\n",
        "response = requests.get(url)\n",
        "bs = BeautifulSoup(response.text,\"lxml\")\n",
        "\n",
        "print(response)\n",
        "#print(bs)\n",
        "temp = bs.find('main', {\"class\" : \"main\"})\n",
        "print(response)\n",
        "\n",
        "#print(temp)\n",
        "bs2json = BS2Json(temp)\n",
        "json_obj = bs2json.convert()\n",
        "films=[]\n",
        "try:\n",
        "  films = json_obj['main']['div'][1]['div']\n",
        "  print(films)\n",
        "except:\n",
        "  print('no film')\n",
        "if type(films) != type(list()):\n",
        "  print(films['a']['attrs']['href'])\n",
        "  print(films['a']['div'][1]['div'][0]['text'])\n",
        "for i in films:\n",
        "  try:\n",
        "    print(i['a']['attrs']['href'])\n",
        "    print(i['a']['div'][1]['div'][0]['text'])\n",
        "  except:\n",
        "    pass\n"
      ],
      "metadata": {
        "colab": {
          "base_uri": "https://localhost:8080/",
          "height": 335
        },
        "id": "RFgCMLsmB4bx",
        "outputId": "c7eafddd-928b-4133-c117-7336940cdf3f"
      },
      "execution_count": null,
      "outputs": [
        {
          "output_type": "stream",
          "name": "stdout",
          "text": [
            "https://281123.lordfilm3.black/index.php?do=search&subaction=search&story=%D0%A1%D0%B5%D0%BA%D1%81%20%D0%B2%20%D0%B1%D0%BE%D0%BB%D1%8C%D1%88%D0%BE%D0%BC%20%D0%B3%D0%BE%D1%80%D0%BE%D0%B4%D0%B5\n",
            "<Response [200]>\n",
            "<Response [200]>\n",
            "{'attrs': {'id': 'dle-content'}, 'form': {'attrs': {'name': 'fullsearch', 'id': 'fullsearch', 'action': 'https://281123.lordfilm3.black/index.php?do=search', 'method': 'post'}, 'input': [{'attrs': {'type': 'hidden', 'name': 'do', 'id': 'do', 'value': 'search'}}, {'attrs': {'type': 'hidden', 'name': 'subaction', 'id': 'subaction', 'value': 'search'}}, {'attrs': {'type': 'hidden', 'name': 'search_start', 'id': 'search_start', 'value': '0'}}, {'attrs': {'type': 'hidden', 'name': 'full_search', 'id': 'full_search', 'value': '0'}}, {'attrs': {'type': 'hidden', 'name': 'result_from', 'id': 'result_from', 'value': '1'}}], 'div': {'attrs': {'class': ['search-page']}, 'header': {'attrs': {'class': ['sub-title']}, 'h1': 'Поиск по сайту'}, 'div': [{'attrs': {'class': ['searchtable'], 'id': 'searchtable', 'name': 'searchtable'}, 'table': {'attrs': {'style': 'width:100%;'}, 'tr': {'td': {'attrs': {'class': ['search']}, 'div': {'attrs': {'style': 'margin:10px;'}, 'input': [{'attrs': {'type': 'text', 'name': 'story', 'id': 'searchinput', 'value': 'Секс в большом городе', 'class': ['textin'], 'style': 'width:250px', 'onchange': \"document.getElementById('result_from').value = 1\"}}, {'attrs': {'type': 'button', 'class': ['bbcodes'], 'name': 'dosearch', 'id': 'dosearch', 'value': 'Начать поиск', 'onclick': 'javascript:list_submit(-1); return false;'}}, {'attrs': {'type': 'button', 'class': ['bbcodes'], 'name': 'dofullsearch', 'id': 'dofullsearch', 'value': 'Расширенный поиск', 'onclick': 'javascript:full_submit(1); return false;'}}], 'br': [None, None]}}}}}, {'attrs': {'class': ['berrors']}, 'b': 'Информация', 'br': None, 'text': 'По Вашему запросу найдено 2 ответов (Результаты запроса 1 - 2) :'}]}, 'script': '<!--\\nfunction clearform(frmname){\\n  var frm = document.getElementById(frmname);\\n  for (var i=0;i<frm.length;i++) {\\n    var el=frm.elements[i];\\n    if (el.type==\"checkbox\" || el.type==\"radio\") {\\n    \\tif (el.name==\\'showposts\\') {document.getElementById(\\'rb_showposts_0\\').checked=1; } else {el.checked=0; }\\n    }\\n    if ((el.type==\"text\") || (el.type==\"textarea\") || (el.type == \"password\")) { el.value=\"\"; continue; }\\n    if ((el.type==\"select-one\") || (el.type==\"select-multiple\")) { el.selectedIndex=0; }\\n  }\\n  \\n  if( document.getElementById(\\'replylimit\\') ) {\\n  \\tdocument.getElementById(\\'replylimit\\').value = 0;\\n  }\\n  \\n  document.getElementById(\\'search_start\\').value = 0;\\n  document.getElementById(\\'result_from\\').value = 1;\\n}\\nfunction list_submit(prm){\\n  var frm = document.getElementById(\\'fullsearch\\');\\n\\tif (prm == -1) {\\n\\t\\tprm=0;\\n\\t\\tfrm.result_from.value=1;\\n\\t} else {\\n\\t\\tfrm.result_from.value=(prm-1) * 48 + 1;\\n\\t}\\n\\tfrm.search_start.value=prm;\\n\\n  frm.submit();\\n  return false;\\n}\\nfunction full_submit(prm){\\n    document.getElementById(\\'fullsearch\\').full_search.value=prm;\\n    list_submit(-1);\\n}\\n//-->'}, 'div': [{'attrs': {'class': ['th-item']}, 'a': {'attrs': {'class': ['th-in', 'with-mask'], 'href': 'https://281123.lordfilm3.black/15514-serial-seks-v-bolshom-gorode-1998.html'}, 'div': [{'attrs': {'class': ['th-img', 'img-resp-vert']}, 'img': {'attrs': {'src': '/uploads/posts/2022-12/93b23d46f9180db1da-seks-v-bolshom-gorode.webp', 'alt': 'Секс в большом городе 1-6 сезон смотреть онлайн'}}}, {'attrs': {'class': ['th-desc']}, 'div': [{'attrs': {'class': ['th-title']}, 'text': 'Секс в большом городе 1-6 сезон'}, {'attrs': {'class': ['th-rates', 'fx-row']}, 'div': [{'attrs': {'class': ['th-rate', 'th-rate-kp'], 'data-text': 'kp'}, 'span': '8.0'}, {'attrs': {'class': ['th-rate', 'th-rate-imdb'], 'data-text': 'imdb'}, 'span': '7.2'}]}]}, {'attrs': {'class': ['th-series']}, 'text': '1-20 серия'}, {'attrs': {'class': ['th-mask', 'fx-col', 'fx-center', 'fx-middle', 'anim']}, 'span': {'attrs': {'class': ['fa', 'fa-play']}}}]}}, {'attrs': {'class': ['th-item']}, 'a': {'attrs': {'class': ['th-in', 'with-mask'], 'href': 'https://281123.lordfilm3.black/2111-film-seks-v-bolshom-gorode-2-2010.html'}, 'div': [{'attrs': {'class': ['th-img', 'img-resp-vert']}, 'img': {'attrs': {'src': '/uploads/posts/2020-09/dbd5e5adc684bc5576-seks-v-bolshom-gorode-2.jpg', 'alt': 'Секс в большом городе 2 (2010) смотреть онлайн'}}}, {'attrs': {'class': ['th-desc']}, 'div': [{'attrs': {'class': ['th-title']}, 'text': 'Секс в большом городе 2 (2010)'}, {'attrs': {'class': ['th-rates', 'fx-row']}, 'div': [{'attrs': {'class': ['th-rate', 'th-rate-kp'], 'data-text': 'kp'}, 'span': '6.2'}, {'attrs': {'class': ['th-rate', 'th-rate-imdb'], 'data-text': 'imdb'}, 'span': '4.5'}]}]}, {'attrs': {'class': ['th-series']}}, {'attrs': {'class': ['th-series']}, 'text': 'FHD (1080p)'}, {'attrs': {'class': ['th-mask', 'fx-col', 'fx-center', 'fx-middle', 'anim']}, 'span': {'attrs': {'class': ['fa', 'fa-play']}}}]}}]}\n"
          ]
        },
        {
          "output_type": "error",
          "ename": "KeyError",
          "evalue": "ignored",
          "traceback": [
            "\u001b[0;31m---------------------------------------------------------------------------\u001b[0m",
            "\u001b[0;31mKeyError\u001b[0m                                  Traceback (most recent call last)",
            "\u001b[0;32m<ipython-input-16-cd9a586ebd70>\u001b[0m in \u001b[0;36m<cell line: 29>\u001b[0;34m()\u001b[0m\n\u001b[1;32m     28\u001b[0m   \u001b[0mprint\u001b[0m\u001b[0;34m(\u001b[0m\u001b[0;34m'no film'\u001b[0m\u001b[0;34m)\u001b[0m\u001b[0;34m\u001b[0m\u001b[0;34m\u001b[0m\u001b[0m\n\u001b[1;32m     29\u001b[0m \u001b[0;32mif\u001b[0m \u001b[0mtype\u001b[0m\u001b[0;34m(\u001b[0m\u001b[0mfilms\u001b[0m\u001b[0;34m)\u001b[0m \u001b[0;34m!=\u001b[0m \u001b[0mtype\u001b[0m\u001b[0;34m(\u001b[0m\u001b[0mlist\u001b[0m\u001b[0;34m(\u001b[0m\u001b[0;34m)\u001b[0m\u001b[0;34m)\u001b[0m\u001b[0;34m:\u001b[0m\u001b[0;34m\u001b[0m\u001b[0;34m\u001b[0m\u001b[0m\n\u001b[0;32m---> 30\u001b[0;31m   \u001b[0mprint\u001b[0m\u001b[0;34m(\u001b[0m\u001b[0mfilms\u001b[0m\u001b[0;34m[\u001b[0m\u001b[0;34m'a'\u001b[0m\u001b[0;34m]\u001b[0m\u001b[0;34m[\u001b[0m\u001b[0;34m'attrs'\u001b[0m\u001b[0;34m]\u001b[0m\u001b[0;34m[\u001b[0m\u001b[0;34m'href'\u001b[0m\u001b[0;34m]\u001b[0m\u001b[0;34m)\u001b[0m\u001b[0;34m\u001b[0m\u001b[0;34m\u001b[0m\u001b[0m\n\u001b[0m\u001b[1;32m     31\u001b[0m   \u001b[0mprint\u001b[0m\u001b[0;34m(\u001b[0m\u001b[0mfilms\u001b[0m\u001b[0;34m[\u001b[0m\u001b[0;34m'a'\u001b[0m\u001b[0;34m]\u001b[0m\u001b[0;34m[\u001b[0m\u001b[0;34m'div'\u001b[0m\u001b[0;34m]\u001b[0m\u001b[0;34m[\u001b[0m\u001b[0;36m1\u001b[0m\u001b[0;34m]\u001b[0m\u001b[0;34m[\u001b[0m\u001b[0;34m'div'\u001b[0m\u001b[0;34m]\u001b[0m\u001b[0;34m[\u001b[0m\u001b[0;36m0\u001b[0m\u001b[0;34m]\u001b[0m\u001b[0;34m[\u001b[0m\u001b[0;34m'text'\u001b[0m\u001b[0;34m]\u001b[0m\u001b[0;34m)\u001b[0m\u001b[0;34m\u001b[0m\u001b[0;34m\u001b[0m\u001b[0m\n\u001b[1;32m     32\u001b[0m \u001b[0;32mfor\u001b[0m \u001b[0mi\u001b[0m \u001b[0;32min\u001b[0m \u001b[0mfilms\u001b[0m\u001b[0;34m:\u001b[0m\u001b[0;34m\u001b[0m\u001b[0;34m\u001b[0m\u001b[0m\n",
            "\u001b[0;31mKeyError\u001b[0m: 'a'"
          ]
        }
      ]
    }
  ]
}