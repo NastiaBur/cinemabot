{
  "nbformat": 4,
  "nbformat_minor": 0,
  "metadata": {
    "colab": {
      "provenance": []
    },
    "kernelspec": {
      "name": "python3",
      "display_name": "Python 3"
    },
    "language_info": {
      "name": "python"
    }
  },
  "cells": [
    {
      "cell_type": "markdown",
      "source": [
        "# Для иви"
      ],
      "metadata": {
        "id": "XfWBkY-wt_8h"
      }
    },
    {
      "cell_type": "code",
      "execution_count": null,
      "metadata": {
        "colab": {
          "base_uri": "https://localhost:8080/"
        },
        "id": "AuzFXXFLt2NN",
        "outputId": "8d599d3b-8e9c-4efb-ae87-023c70649df8"
      },
      "outputs": [
        {
          "output_type": "stream",
          "name": "stdout",
          "text": [
            "[8.98, 'https://www.ivi.ru/watch/109726']\n"
          ]
        }
      ],
      "source": [
        "from urllib.request import urlopen\n",
        "import json\n",
        "from urllib.parse import quote\n",
        "\n",
        "def ivi_parser(film):\n",
        "  url = \"https://api.ivi.ru/mobileapi/search/v7/?query=\" + quote(film) + '&app_version=23801'\n",
        "\n",
        "  response = urlopen(url)\n",
        "  data = json.loads(response.read())\n",
        "  for i in data['result']:\n",
        "    if i['title'] == film:\n",
        "      return i['ivi_rating_10'], i['share_link']\n",
        "\n",
        "print(ivi_parser('1+1'))"
      ]
    },
    {
      "cell_type": "markdown",
      "source": [
        "# Для окко"
      ],
      "metadata": {
        "id": "c17t2rYCuJbL"
      }
    },
    {
      "cell_type": "code",
      "source": [
        "from urllib.parse import quote\n",
        "\n",
        "def okko_parser(film):\n",
        "  url = 'https://okko.tv/search/' + quote(film)\n",
        "  return url\n",
        "\n",
        "\n",
        "\n",
        "print(okko_parser('легенда 17'))\n",
        "\n"
      ],
      "metadata": {
        "colab": {
          "base_uri": "https://localhost:8080/"
        },
        "id": "hoWtqsROuRjf",
        "outputId": "a0fcd38b-2584-4037-e6b5-cf36b892b969"
      },
      "execution_count": null,
      "outputs": [
        {
          "output_type": "stream",
          "name": "stdout",
          "text": [
            "https://okko.tv/search/%D0%BB%D0%B5%D0%B3%D0%B5%D0%BD%D0%B4%D0%B0%2017\n"
          ]
        }
      ]
    },
    {
      "cell_type": "markdown",
      "source": [
        "# Для https://w140.zona.plus"
      ],
      "metadata": {
        "id": "nuh2slgy3ls9"
      }
    },
    {
      "cell_type": "code",
      "source": [
        "!pip install bs4\n",
        "!pip install bs2json"
      ],
      "metadata": {
        "id": "71VPLXNnSwCO"
      },
      "execution_count": null,
      "outputs": []
    },
    {
      "cell_type": "code",
      "source": [
        "from bs4 import BeautifulSoup\n",
        "import requests\n",
        "import json\n",
        "from bs2json import BS2Json\n",
        "from urllib.parse import quote\n",
        "\n",
        "def zona_parser(film, y):\n",
        "  url = 'https://w140.zona.plus/search/' + quote(film)\n",
        "\n",
        "  response = requests.get(url)\n",
        "\n",
        "  bs = BeautifulSoup(response.text,\"lxml\")\n",
        "\n",
        "\n",
        "  temp = bs.find('ul', {\"class\" : 'results'})\n",
        "  if temp:\n",
        "    bs2json = BS2Json(temp)\n",
        "    json_obj = bs2json.convert()\n",
        "    #print(json_obj)\n",
        "    for i in range(len(json_obj['ul']['li'])):\n",
        "      name = ''\n",
        "      year = ''\n",
        "      try:\n",
        "        name = json_obj['ul']['li'][i]['a']['div'][1]['div']['text']\n",
        "        try:\n",
        "          year = json_obj['ul']['li'][i]['a']['div'][1]['span'][1]['text']\n",
        "        except:\n",
        "          year = json_obj['ul']['li'][i]['a']['div'][1]['span']['text']\n",
        "        #print(name, year)\n",
        "      except:\n",
        "        pass\n",
        "\n",
        "\n",
        "      if name == film and year == y:\n",
        "       return ('https://w140.zona.plus' + json_obj['ul']['li'][i]['a']['attrs']['href'])\n",
        "    return ('https://w140.zona.plus' + json_obj['ul']['li'][0]['a']['attrs']['href'])\n",
        "  return ''\n",
        "\n",
        "\n",
        "\n",
        "print(zona_parser('Дневники вампира', ''))"
      ],
      "metadata": {
        "colab": {
          "base_uri": "https://localhost:8080/"
        },
        "id": "ifSbzPekxO6o",
        "outputId": "bbed7c14-9263-42e3-b473-41e94671a29d"
      },
      "execution_count": 131,
      "outputs": [
        {
          "output_type": "stream",
          "name": "stdout",
          "text": [
            "Дневники вампира 2009\n",
            "Дневники вампира 1997\n",
            "https://w140.zona.plus/tvseries/dnevniki-vampira-2009\n"
          ]
        }
      ]
    },
    {
      "cell_type": "markdown",
      "source": [
        "# Для лордфильм"
      ],
      "metadata": {
        "id": "sx4S8ufn9N14"
      }
    },
    {
      "cell_type": "code",
      "source": [
        "!pip install selenium"
      ],
      "metadata": {
        "id": "N88a1bhvPCPi"
      },
      "execution_count": null,
      "outputs": []
    },
    {
      "cell_type": "code",
      "source": [
        "from selenium.webdriver.common.by import By\n",
        "from selenium import webdriver\n",
        "from selenium.webdriver.chrome.options import Options\n",
        "from urllib.parse import quote\n",
        "import requests\n",
        "\n",
        "def lordfilm(film):\n",
        "  href = []\n",
        "  options = Options() #webdriver.ChromeOptions()\n",
        "  options.add_argument('--headless')\n",
        "  options.add_argument('--no-sandbox')\n",
        "\n",
        "  browser = webdriver.Chrome(options=options)\n",
        "  browser.get(\"https://yandex.ru/search/?text=\" + quote(film + ' смотреть онлайн бесплатно'))\n",
        "  elements = browser.find_elements(By.PARTIAL_LINK_TEXT, 'lord')\n",
        "  for e in elements:\n",
        "    url = e.get_attribute('href')\n",
        "    browser.quit()\n",
        "    return url\n",
        "\n",
        "    # response = requests.get(url)\n",
        "    # if response.status_code == 200:\n",
        "\n",
        "    #href.append(url)\n",
        "    #print(e.get_attribute('href'))\n",
        "  browser.quit()\n",
        "\n",
        "  return ''\n",
        "\n",
        "\n",
        "print(lordfilm('легенда 17'))\n"
      ],
      "metadata": {
        "colab": {
          "base_uri": "https://localhost:8080/"
        },
        "id": "tfwHR9sPPMBY",
        "outputId": "835f33bc-18df-4e12-c96b-22da7724a15f"
      },
      "execution_count": 136,
      "outputs": [
        {
          "output_type": "stream",
          "name": "stdout",
          "text": [
            "https://www.lordfilms0.one/2950-legenda-17-w49\n"
          ]
        }
      ]
    },
    {
      "cell_type": "code",
      "source": [
        "# from bs4 import BeautifulSoup\n",
        "# import requests\n",
        "# import re\n",
        "# import json\n",
        "# from bs2json import BS2Json\n",
        "# from urllib.parse import quote\n",
        "\n",
        "# url = 'https://fd.lordfilms.cc/index.php?do=search&subaction=search&story=' + quote('Дневники вампира')\n",
        "\n",
        "# print(url)\n",
        "# response = requests.get(url)\n",
        "# bs = BeautifulSoup(response.text,\"lxml\")\n",
        "\n",
        "\n",
        "# temp = bs.find('main', {\"class\" : \"main\"})\n",
        "# print(response)\n",
        "\n",
        "# #print(temp)\n",
        "# bs2json = BS2Json(temp)\n",
        "# json_obj = bs2json.convert()\n",
        "# films=[]\n",
        "# try:\n",
        "#   films = json_obj['main']['div'][1]['div']\n",
        "#   print(films)\n",
        "# except:\n",
        "#   print('no film')\n",
        "# if type(films) != type(list()):\n",
        "#   print(films['a']['attrs']['href'])\n",
        "#   print(films['a']['div'][1]['div'][0]['text'])\n",
        "# for i in films:\n",
        "#   try:\n",
        "#     print(i['a']['attrs']['href'])\n",
        "#     print(i['a']['div'][1]['div'][0]['text'])\n",
        "#   except:\n",
        "#     pass\n"
      ],
      "metadata": {
        "id": "2hbChQ1RxeHh"
      },
      "execution_count": null,
      "outputs": []
    }
  ]
}