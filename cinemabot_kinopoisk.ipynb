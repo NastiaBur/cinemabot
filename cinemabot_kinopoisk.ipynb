{
 "cells": [
  {
   "cell_type": "code",
   "execution_count": 2,
   "metadata": {},
   "outputs": [
    {
     "name": "stdout",
     "output_type": "stream",
     "text": [
      "Collecting kinopoisk-api-unofficial-client\n",
      "  Downloading kinopoisk_api_unofficial_client-2.2.2-py3-none-any.whl (50 kB)\n",
      "     -------------------------------------- 50.7/50.7 kB 861.4 kB/s eta 0:00:00\n",
      "Collecting requests<=2.26.0 (from kinopoisk-api-unofficial-client)\n",
      "  Downloading requests-2.26.0-py2.py3-none-any.whl (62 kB)\n",
      "     ---------------------------------------- 62.3/62.3 kB 1.7 MB/s eta 0:00:00\n",
      "Collecting apischema==0.15.6 (from kinopoisk-api-unofficial-client)\n",
      "  Downloading apischema-0.15.6-py3-none-any.whl (93 kB)\n",
      "     ---------------------------------------- 93.1/93.1 kB 2.6 MB/s eta 0:00:00\n",
      "Collecting urllib3<1.27,>=1.21.1 (from requests<=2.26.0->kinopoisk-api-unofficial-client)\n",
      "  Downloading urllib3-1.26.18-py2.py3-none-any.whl.metadata (48 kB)\n",
      "     ---------------------------------------- 48.9/48.9 kB ? eta 0:00:00\n",
      "Requirement already satisfied: certifi>=2017.4.17 in c:\\users\\даша\\appdata\\local\\programs\\python\\python310\\lib\\site-packages (from requests<=2.26.0->kinopoisk-api-unofficial-client) (2023.7.22)\n",
      "Collecting charset-normalizer~=2.0.0 (from requests<=2.26.0->kinopoisk-api-unofficial-client)\n",
      "  Downloading charset_normalizer-2.0.12-py3-none-any.whl (39 kB)\n",
      "Requirement already satisfied: idna<4,>=2.5 in c:\\users\\даша\\appdata\\local\\programs\\python\\python310\\lib\\site-packages (from requests<=2.26.0->kinopoisk-api-unofficial-client) (3.4)\n",
      "Downloading urllib3-1.26.18-py2.py3-none-any.whl (143 kB)\n",
      "   ---------------------------------------- 143.8/143.8 kB 4.2 MB/s eta 0:00:00\n",
      "Installing collected packages: urllib3, charset-normalizer, apischema, requests, kinopoisk-api-unofficial-client\n",
      "  Attempting uninstall: urllib3\n",
      "    Found existing installation: urllib3 2.0.7\n",
      "    Uninstalling urllib3-2.0.7:\n",
      "      Successfully uninstalled urllib3-2.0.7\n",
      "  Attempting uninstall: charset-normalizer\n",
      "    Found existing installation: charset-normalizer 3.3.1\n",
      "    Uninstalling charset-normalizer-3.3.1:\n",
      "      Successfully uninstalled charset-normalizer-3.3.1\n",
      "  Attempting uninstall: requests\n",
      "    Found existing installation: requests 2.31.0\n",
      "    Uninstalling requests-2.31.0:\n",
      "      Successfully uninstalled requests-2.31.0\n",
      "Successfully installed apischema-0.15.6 charset-normalizer-2.0.12 kinopoisk-api-unofficial-client-2.2.2 requests-2.26.0 urllib3-1.26.18\n",
      "Note: you may need to restart the kernel to use updated packages.\n"
     ]
    }
   ],
   "source": [
    "%pip install kinopoisk-api-unofficial-client"
   ]
  },
  {
   "cell_type": "code",
   "execution_count": 59,
   "metadata": {},
   "outputs": [
    {
     "name": "stdout",
     "output_type": "stream",
     "text": [
      "TV_SERIES\n",
      "FilmResponse(film=Film(kinopoisk_id=401522, imdb_id='tt0460649', name_ru='Как я встретил вашу маму', name_en=None, name_original='How I Met Your Mother', poster_url='https://kinopoiskapiunofficial.tech/images/posters/kp/401522.jpg', poster_url_preview='https://kinopoiskapiunofficial.tech/images/posters/kp_small/401522.jpg', reviews_count=247, rating_good_review=93.0, rating_good_review_vote_count=224, rating_kinopoisk=8.6, rating_kinopoisk_vote_count=247153, rating_imdb=8.3, rating_imdb_vote_count=714485, rating_film_critics=None, rating_film_critics_vote_count=0, rating_await=None, rating_await_count=0, rating_rf_critics=None, rating_rf_critics_vote_count=2, year=2005, film_length=22, is_tickets_available=False, production_status=None, type=<FilmType.TV_SERIES: 'TV_SERIES'>, has_imax=False, has_3_d=False, countries=[Country(country='США')], genres=[Genre(genre='драма'), Genre(genre='мелодрама'), Genre(genre='комедия')], start_year=2005, end_year=2014, cover_url='https://avatars.mds.yandex.net/get-ott/1534341/2a000001847ba9a5b111d0f4542d388bdf1d/orig', logo_url='https://avatars.mds.yandex.net/get-ott/1531675/2a000001761861a91c4d2a0e347e9916710c/orig', web_url='https://www.kinopoisk.ru/film/401522/', slogan='A love story in reverse.', description='«Как я встретил вашу маму» — комедия про Теда и про то, как он влюбился. Все неприятности начинаются с того, что лучший друг Теда, Маршалл, вдруг неожиданно сообщает, что он хочет сделать предложение своей давней подруге Лили, воспитательнице детского сада. К тому времени Тед понимает, что ему нужно прилагать больше усилий, если он действительно надеется найти свою настоящую любовь. Помогает ему в этих поисках его друг Барни - убеждённый холостяк, вечно со своим, иногда чересчур, мнением на всё происходящее, со склонностью к костюмам и верным способом знакомиться с девушками. Когда Тед встречает Робин, он решает, что это любовь с первого взгляда, но у судьбы в запасе есть кое-что ещё.', short_description='Романтик Тед с помощью друзей ищет девушку своей мечты. Один из лучших и самых трогательных ситкомов XXI века', editor_annotation=None, rating_mpaa=None, rating_age_limits='age16', last_sync='2023-11-07T08:08:10.859545', serial=True, short_film=False, completed=True))\n"
     ]
    }
   ],
   "source": [
    "from kinopoisk_unofficial.kinopoisk_api_client import KinopoiskApiClient\n",
    "from kinopoisk_unofficial.request.films.film_request import FilmRequest\n",
    "\n",
    "from kinopoisk_unofficial.request.films.search_by_keyword_request import SearchByKeywordRequest\n",
    "\n",
    "# для проверки возрастных ограничений\n",
    "import re \n",
    "\n",
    "api_client = KinopoiskApiClient(\"14df4088-0c1e-475f-8295-2330a36a15ab\")\n",
    "\n",
    "name_request = 'Как я встретил вашу маму' # input()\n",
    "\n",
    "# get film id by name request:\n",
    "\n",
    "request = SearchByKeywordRequest(name_request)\n",
    "response = api_client.films.send_search_by_keyword_request(request)\n",
    "request_film_id = response.films[0].film_id\n",
    "id = FilmRequest(request_film_id)\n",
    "\n",
    "# get film info by id:\n",
    "\n",
    "film_response = api_client.films.send_film_request(id)\n",
    "\n",
    "film_name = film_response.film.name_ru\n",
    "film_type = film_response.film.type\n",
    "\n",
    "film_kinopoisk_rating = film_response.film.rating_kinopoisk\n",
    "film_imbd_rating = film_response.film.rating_imdb\n",
    "film_year = film_response.film.year\n",
    "film_length = film_response.film.film_length\n",
    "\n",
    "film_genres = []\n",
    "for genre in film_response.film.genres:\n",
    "    film_genres.append(genre.genre)\n",
    "\n",
    "film_countries = []\n",
    "for country in film_response.film.countries:\n",
    "    film_countries.append(country.country)\n",
    "\n",
    "film_description = film_response.film.description\n",
    "film_short_description = film_response.film.short_description\n",
    "film_poster_url = film_response.film.poster_url\n",
    "\n",
    "film_age = int(re.findall(r'\\d+', film_response.film.rating_age_limits)[0])\n",
    "film_url = film_response.film.web_url\n"
   ]
  },
  {
   "cell_type": "code",
   "execution_count": 61,
   "metadata": {},
   "outputs": [],
   "source": [
    "class Film:\n",
    "    def __init__(self, name : str, type : str, year : int, rating : float, duration : int, poster_url : str, genre : list, country : list, description: str, short_description : str, age : int, site : str, site_url : str):\n",
    "        self.name = name\n",
    "        self.type = type\n",
    "        self.year = year\n",
    "        self.rating = rating\n",
    "        self.duration = duration\n",
    "        self.poster_url = poster_url\n",
    "        self.genre = genre\n",
    "        self.country = country\n",
    "        self.description = description\n",
    "        self.short_description = short_description\n",
    "        self.age = age\n",
    "        self.site = site\n",
    "        self.site_url = site_url\n",
    "\n",
    "film = Film(film_name, film_type, film_year, film_kinopoisk_rating, film_length, film_poster_url, film_genres, film_countries, film_description, film_short_description, film_age, \"kinopoisk\", film_url)"
   ]
  },
  {
   "cell_type": "code",
   "execution_count": 63,
   "metadata": {},
   "outputs": [
    {
     "name": "stdout",
     "output_type": "stream",
     "text": [
      "Как я встретил вашу маму, 2005\n",
      "FilmType.TV_SERIES\n",
      "Рейтинг: 8.6\n",
      "Продолжительность: 22\n",
      "https://kinopoiskapiunofficial.tech/images/posters/kp/401522.jpg\n",
      "драма, мелодрама, комедия\n",
      "США\n",
      "16+\n",
      "«Как я встретил вашу маму» — комедия про Теда и про то, как он влюбился. Все неприятности начинаются с того, что лучший друг Теда, Маршалл, вдруг неожиданно сообщает, что он хочет сделать предложение своей давней подруге Лили, воспитательнице детского сада. К тому времени Тед понимает, что ему нужно прилагать больше усилий, если он действительно надеется найти свою настоящую любовь. Помогает ему в этих поисках его друг Барни - убеждённый холостяк, вечно со своим, иногда чересчур, мнением на всё происходящее, со склонностью к костюмам и верным способом знакомиться с девушками. Когда Тед встречает Робин, он решает, что это любовь с первого взгляда, но у судьбы в запасе есть кое-что ещё.\n",
      "https://www.kinopoisk.ru/film/401522/\n"
     ]
    }
   ],
   "source": [
    "print(f'{film.name}, {film.year}')\n",
    "print(film.type)\n",
    "print(f'Рейтинг: {film.rating}')\n",
    "print(f'Продолжительность: {film.duration}')\n",
    "print(film.poster_url)\n",
    "print(', '.join(film.genre))\n",
    "print(', '.join(film.country))\n",
    "print(f'{film.age}+')\n",
    "print(film.description)\n",
    "print(film.site_url)"
   ]
  },
  {
   "cell_type": "markdown",
   "metadata": {},
   "source": [
    "![](https://kinopoiskapiunofficial.tech/images/posters/kp/462762.jpg)"
   ]
  }
 ],
 "metadata": {
  "kernelspec": {
   "display_name": "Python 3",
   "language": "python",
   "name": "python3"
  },
  "language_info": {
   "codemirror_mode": {
    "name": "ipython",
    "version": 3
   },
   "file_extension": ".py",
   "mimetype": "text/x-python",
   "name": "python",
   "nbconvert_exporter": "python",
   "pygments_lexer": "ipython3",
   "version": "3.10.0"
  }
 },
 "nbformat": 4,
 "nbformat_minor": 2
}
