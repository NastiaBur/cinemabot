{
 "cells": [
  {
   "cell_type": "code",
   "execution_count": 2,
   "metadata": {},
   "outputs": [
    {
     "name": "stdout",
     "output_type": "stream",
     "text": [
      "Collecting kinopoisk-api-unofficial-client\n",
      "  Downloading kinopoisk_api_unofficial_client-2.2.2-py3-none-any.whl (50 kB)\n",
      "     -------------------------------------- 50.7/50.7 kB 861.4 kB/s eta 0:00:00\n",
      "Collecting requests<=2.26.0 (from kinopoisk-api-unofficial-client)\n",
      "  Downloading requests-2.26.0-py2.py3-none-any.whl (62 kB)\n",
      "     ---------------------------------------- 62.3/62.3 kB 1.7 MB/s eta 0:00:00\n",
      "Collecting apischema==0.15.6 (from kinopoisk-api-unofficial-client)\n",
      "  Downloading apischema-0.15.6-py3-none-any.whl (93 kB)\n",
      "     ---------------------------------------- 93.1/93.1 kB 2.6 MB/s eta 0:00:00\n",
      "Collecting urllib3<1.27,>=1.21.1 (from requests<=2.26.0->kinopoisk-api-unofficial-client)\n",
      "  Downloading urllib3-1.26.18-py2.py3-none-any.whl.metadata (48 kB)\n",
      "     ---------------------------------------- 48.9/48.9 kB ? eta 0:00:00\n",
      "Requirement already satisfied: certifi>=2017.4.17 in c:\\users\\даша\\appdata\\local\\programs\\python\\python310\\lib\\site-packages (from requests<=2.26.0->kinopoisk-api-unofficial-client) (2023.7.22)\n",
      "Collecting charset-normalizer~=2.0.0 (from requests<=2.26.0->kinopoisk-api-unofficial-client)\n",
      "  Downloading charset_normalizer-2.0.12-py3-none-any.whl (39 kB)\n",
      "Requirement already satisfied: idna<4,>=2.5 in c:\\users\\даша\\appdata\\local\\programs\\python\\python310\\lib\\site-packages (from requests<=2.26.0->kinopoisk-api-unofficial-client) (3.4)\n",
      "Downloading urllib3-1.26.18-py2.py3-none-any.whl (143 kB)\n",
      "   ---------------------------------------- 143.8/143.8 kB 4.2 MB/s eta 0:00:00\n",
      "Installing collected packages: urllib3, charset-normalizer, apischema, requests, kinopoisk-api-unofficial-client\n",
      "  Attempting uninstall: urllib3\n",
      "    Found existing installation: urllib3 2.0.7\n",
      "    Uninstalling urllib3-2.0.7:\n",
      "      Successfully uninstalled urllib3-2.0.7\n",
      "  Attempting uninstall: charset-normalizer\n",
      "    Found existing installation: charset-normalizer 3.3.1\n",
      "    Uninstalling charset-normalizer-3.3.1:\n",
      "      Successfully uninstalled charset-normalizer-3.3.1\n",
      "  Attempting uninstall: requests\n",
      "    Found existing installation: requests 2.31.0\n",
      "    Uninstalling requests-2.31.0:\n",
      "      Successfully uninstalled requests-2.31.0\n",
      "Successfully installed apischema-0.15.6 charset-normalizer-2.0.12 kinopoisk-api-unofficial-client-2.2.2 requests-2.26.0 urllib3-1.26.18\n",
      "Note: you may need to restart the kernel to use updated packages.\n"
     ]
    }
   ],
   "source": [
    "%pip install kinopoisk-api-unofficial-client"
   ]
  },
  {
   "cell_type": "code",
   "execution_count": 25,
   "metadata": {},
   "outputs": [
    {
     "name": "stdout",
     "output_type": "stream",
     "text": [
      "FilmResponse(film=Film(kinopoisk_id=462762, imdb_id='tt1300854', name_ru='Железный человек 3', name_en=None, name_original='Iron Man Three', poster_url='https://kinopoiskapiunofficial.tech/images/posters/kp/462762.jpg', poster_url_preview='https://kinopoiskapiunofficial.tech/images/posters/kp_small/462762.jpg', reviews_count=464, rating_good_review=75.0, rating_good_review_vote_count=312, rating_kinopoisk=7.5, rating_kinopoisk_vote_count=457473, rating_imdb=7.1, rating_imdb_vote_count=883867, rating_film_critics=7.0, rating_film_critics_vote_count=331, rating_await=94.0, rating_await_count=73694, rating_rf_critics=86.0, rating_rf_critics_vote_count=22, year=2013, film_length=125, is_tickets_available=False, production_status=None, type=<FilmType.FILM: 'FILM'>, has_imax=True, has_3_d=True, countries=[Country(country='США')], genres=[Genre(genre='фантастика'), Genre(genre='приключения'), Genre(genre='боевик')], start_year=None, end_year=None, cover_url='https://avatars.mds.yandex.net/get-ott/2419418/2a0000017c076a48a4c9b75abb5ea859eec8/orig', logo_url='https://avatars.mds.yandex.net/get-ott/1531675/2a00000178cbf79122de28bd897da28ea2e8/orig', web_url='https://www.kinopoisk.ru/film/462762/', slogan='Герой будет сражен', description='Когда мир Старка рушится на его глазах по вине неизвестных противников, Тони жаждет найти виновных и свести с ними счеты. Оказавшись в безвыходной ситуации, Старк может рассчитывать только на себя и свою изобретательность, чтобы защитить тех, кто ему дорог. Это становится настоящим испытанием для героя, которому придется не только сражаться с коварным врагом, но и разобраться в себе, чтобы найти ответ на вопрос, который давно его тревожит: что важнее - человек или костюм?', short_description='Тони Старк борется с террористами и внутренними демонами. Финал сольной трилогии о миллиардере-супергерое', editor_annotation=None, rating_mpaa='pg13', rating_age_limits='age12', last_sync='2023-11-07T22:48:33.637003', serial=False, short_film=False, completed=False))\n",
      "12\n"
     ]
    }
   ],
   "source": [
    "from kinopoisk_unofficial.kinopoisk_api_client import KinopoiskApiClient\n",
    "from kinopoisk_unofficial.request.films.film_request import FilmRequest\n",
    "\n",
    "from kinopoisk_unofficial.request.films.search_by_keyword_request import SearchByKeywordRequest\n",
    "\n",
    "# для проверки возрастных ограничений\n",
    "import re \n",
    "\n",
    "api_client = KinopoiskApiClient(\"14df4088-0c1e-475f-8295-2330a36a15ab\")\n",
    "\n",
    "name_request = 'Желехный человек 3' # input()\n",
    "\n",
    "# get film id by name request:\n",
    "\n",
    "request = SearchByKeywordRequest(name_request)\n",
    "response = api_client.films.send_search_by_keyword_request(request)\n",
    "request_film_id = response.films[0].film_id\n",
    "id = FilmRequest(request_film_id)\n",
    "\n",
    "# get film info by id:\n",
    "\n",
    "film_response = api_client.films.send_film_request(id)\n",
    "\n",
    "film_name = film_response.film.name_ru\n",
    "film_kinopoisk_rating = film_response.film.rating_kinopoisk\n",
    "film_imbd_rating = film_response.film.rating_imdb\n",
    "film_year = film_response.film.year\n",
    "film_length = film_response.film.film_length\n",
    "\n",
    "film_genres = []\n",
    "for genre in film_response.film.genres:\n",
    "    film_genres.append(genre.genre)\n",
    "\n",
    "film_countries = []\n",
    "for country in film_response.film.countries:\n",
    "    film_countries.append(country.country)\n",
    "\n",
    "film_description = film_response.film.short_description\n",
    "\n",
    "film_age = int(re.findall(r'\\d+', film_response.film.rating_age_limits)[0])\n"
   ]
  },
  {
   "cell_type": "code",
   "execution_count": 27,
   "metadata": {},
   "outputs": [],
   "source": [
    "class Film:\n",
    "    def __init__(self, name : str, year : int, rating : float, duration : int, genre : list, country : list, description : str, age : int, site : str):\n",
    "        self.name = name\n",
    "        self.year = year\n",
    "        self.rating = rating\n",
    "        self.duration = duration\n",
    "        self.genre = genre\n",
    "        self.country = country\n",
    "        self.description = description\n",
    "        self.age = age\n",
    "        self.site = site\n",
    "\n",
    "film = Film(film_name, film_year, film_kinopoisk_rating, film_length, film_genres, film_countries, film_description, film_age, \"kinopoisk\")"
   ]
  },
  {
   "cell_type": "code",
   "execution_count": 32,
   "metadata": {},
   "outputs": [
    {
     "name": "stdout",
     "output_type": "stream",
     "text": [
      "Железный человек 3, 2013\n",
      "Рейтинг: 7.5\n",
      "Продолжительность: 125\n",
      "фантастика, приключения, боевик\n",
      "США\n",
      "12+\n",
      "Тони Старк борется с террористами и внутренними демонами. Финал сольной трилогии о миллиардере-супергерое\n"
     ]
    }
   ],
   "source": [
    "print(f'{film.name}, {film.year}')\n",
    "print(f'Рейтинг: {film.rating}')\n",
    "print(f'Продолжительность: {film.duration}')\n",
    "print(', '.join(film.genre))\n",
    "print(', '.join(film.country))\n",
    "print(f'{film.age}+')\n",
    "print(film.description)"
   ]
  }
 ],
 "metadata": {
  "kernelspec": {
   "display_name": "Python 3",
   "language": "python",
   "name": "python3"
  },
  "language_info": {
   "codemirror_mode": {
    "name": "ipython",
    "version": 3
   },
   "file_extension": ".py",
   "mimetype": "text/x-python",
   "name": "python",
   "nbconvert_exporter": "python",
   "pygments_lexer": "ipython3",
   "version": "3.10.0"
  }
 },
 "nbformat": 4,
 "nbformat_minor": 2
}
