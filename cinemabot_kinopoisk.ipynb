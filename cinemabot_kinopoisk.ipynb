{
 "cells": [
  {
   "cell_type": "code",
   "execution_count": 2,
   "metadata": {},
   "outputs": [
    {
     "name": "stdout",
     "output_type": "stream",
     "text": [
      "Collecting kinopoisk-api-unofficial-client\n",
      "  Downloading kinopoisk_api_unofficial_client-2.2.2-py3-none-any.whl (50 kB)\n",
      "     -------------------------------------- 50.7/50.7 kB 861.4 kB/s eta 0:00:00\n",
      "Collecting requests<=2.26.0 (from kinopoisk-api-unofficial-client)\n",
      "  Downloading requests-2.26.0-py2.py3-none-any.whl (62 kB)\n",
      "     ---------------------------------------- 62.3/62.3 kB 1.7 MB/s eta 0:00:00\n",
      "Collecting apischema==0.15.6 (from kinopoisk-api-unofficial-client)\n",
      "  Downloading apischema-0.15.6-py3-none-any.whl (93 kB)\n",
      "     ---------------------------------------- 93.1/93.1 kB 2.6 MB/s eta 0:00:00\n",
      "Collecting urllib3<1.27,>=1.21.1 (from requests<=2.26.0->kinopoisk-api-unofficial-client)\n",
      "  Downloading urllib3-1.26.18-py2.py3-none-any.whl.metadata (48 kB)\n",
      "     ---------------------------------------- 48.9/48.9 kB ? eta 0:00:00\n",
      "Requirement already satisfied: certifi>=2017.4.17 in c:\\users\\даша\\appdata\\local\\programs\\python\\python310\\lib\\site-packages (from requests<=2.26.0->kinopoisk-api-unofficial-client) (2023.7.22)\n",
      "Collecting charset-normalizer~=2.0.0 (from requests<=2.26.0->kinopoisk-api-unofficial-client)\n",
      "  Downloading charset_normalizer-2.0.12-py3-none-any.whl (39 kB)\n",
      "Requirement already satisfied: idna<4,>=2.5 in c:\\users\\даша\\appdata\\local\\programs\\python\\python310\\lib\\site-packages (from requests<=2.26.0->kinopoisk-api-unofficial-client) (3.4)\n",
      "Downloading urllib3-1.26.18-py2.py3-none-any.whl (143 kB)\n",
      "   ---------------------------------------- 143.8/143.8 kB 4.2 MB/s eta 0:00:00\n",
      "Installing collected packages: urllib3, charset-normalizer, apischema, requests, kinopoisk-api-unofficial-client\n",
      "  Attempting uninstall: urllib3\n",
      "    Found existing installation: urllib3 2.0.7\n",
      "    Uninstalling urllib3-2.0.7:\n",
      "      Successfully uninstalled urllib3-2.0.7\n",
      "  Attempting uninstall: charset-normalizer\n",
      "    Found existing installation: charset-normalizer 3.3.1\n",
      "    Uninstalling charset-normalizer-3.3.1:\n",
      "      Successfully uninstalled charset-normalizer-3.3.1\n",
      "  Attempting uninstall: requests\n",
      "    Found existing installation: requests 2.31.0\n",
      "    Uninstalling requests-2.31.0:\n",
      "      Successfully uninstalled requests-2.31.0\n",
      "Successfully installed apischema-0.15.6 charset-normalizer-2.0.12 kinopoisk-api-unofficial-client-2.2.2 requests-2.26.0 urllib3-1.26.18\n",
      "Note: you may need to restart the kernel to use updated packages.\n"
     ]
    }
   ],
   "source": [
    "%pip install kinopoisk-api-unofficial-client"
   ]
  },
  {
   "cell_type": "code",
   "execution_count": 40,
   "metadata": {},
   "outputs": [],
   "source": [
    "from kinopoisk_unofficial.kinopoisk_api_client import KinopoiskApiClient\n",
    "from kinopoisk_unofficial.request.films.film_request import FilmRequest\n",
    "\n",
    "from kinopoisk_unofficial.request.films.search_by_keyword_request import SearchByKeywordRequest\n",
    "\n",
    "# для проверки возрастных ограничений\n",
    "import re \n",
    "\n",
    "api_client = KinopoiskApiClient(\"14df4088-0c1e-475f-8295-2330a36a15ab\")\n",
    "\n",
    "name_request = 'Желехный человек 3' # input()\n",
    "\n",
    "# get film id by name request:\n",
    "\n",
    "request = SearchByKeywordRequest(name_request)\n",
    "response = api_client.films.send_search_by_keyword_request(request)\n",
    "request_film_id = response.films[0].film_id\n",
    "id = FilmRequest(request_film_id)\n",
    "\n",
    "# get film info by id:\n",
    "\n",
    "film_response = api_client.films.send_film_request(id)\n",
    "\n",
    "film_name = film_response.film.name_ru\n",
    "film_kinopoisk_rating = film_response.film.rating_kinopoisk\n",
    "film_imbd_rating = film_response.film.rating_imdb\n",
    "film_year = film_response.film.year\n",
    "film_length = film_response.film.film_length\n",
    "\n",
    "film_genres = []\n",
    "for genre in film_response.film.genres:\n",
    "    film_genres.append(genre.genre)\n",
    "\n",
    "film_countries = []\n",
    "for country in film_response.film.countries:\n",
    "    film_countries.append(country.country)\n",
    "\n",
    "film_description = film_response.film.short_description\n",
    "film_poster_url = film_response.film.poster_url\n",
    "\n",
    "film_age = int(re.findall(r'\\d+', film_response.film.rating_age_limits)[0])\n",
    "film_url = film_response.film.web_url\n"
   ]
  },
  {
   "cell_type": "code",
   "execution_count": 41,
   "metadata": {},
   "outputs": [],
   "source": [
    "class Film:\n",
    "    def __init__(self, name : str, year : int, rating : float, duration : int, poster_url : str, genre : list, country : list, description : str, age : int, site : str, site_url : str):\n",
    "        self.name = name\n",
    "        self.year = year\n",
    "        self.rating = rating\n",
    "        self.duration = duration\n",
    "        self.poster_url = poster_url\n",
    "        self.genre = genre\n",
    "        self.country = country\n",
    "        self.description = description\n",
    "        self.age = age\n",
    "        self.site = site\n",
    "        self.site_url = site_url\n",
    "\n",
    "film = Film(film_name, film_year, film_kinopoisk_rating, film_length, film_poster_url, film_genres, film_countries, film_description, film_age, \"kinopoisk\", film_url)"
   ]
  },
  {
   "cell_type": "code",
   "execution_count": 42,
   "metadata": {},
   "outputs": [
    {
     "name": "stdout",
     "output_type": "stream",
     "text": [
      "Железный человек 3, 2013\n",
      "Рейтинг: 7.5\n",
      "Продолжительность: 125\n",
      "https://kinopoiskapiunofficial.tech/images/posters/kp/462762.jpg\n",
      "фантастика, приключения, боевик\n",
      "США\n",
      "12+\n",
      "Тони Старк борется с террористами и внутренними демонами. Финал сольной трилогии о миллиардере-супергерое\n",
      "https://www.kinopoisk.ru/film/462762/\n"
     ]
    }
   ],
   "source": [
    "print(f'{film.name}, {film.year}')\n",
    "print(f'Рейтинг: {film.rating}')\n",
    "print(f'Продолжительность: {film.duration}')\n",
    "print(film.poster_url)\n",
    "print(', '.join(film.genre))\n",
    "print(', '.join(film.country))\n",
    "print(f'{film.age}+')\n",
    "print(film.description)\n",
    "print(film.site_url)"
   ]
  },
  {
   "cell_type": "markdown",
   "metadata": {},
   "source": [
    "![](https://kinopoiskapiunofficial.tech/images/posters/kp/462762.jpg)"
   ]
  }
 ],
 "metadata": {
  "kernelspec": {
   "display_name": "Python 3",
   "language": "python",
   "name": "python3"
  },
  "language_info": {
   "codemirror_mode": {
    "name": "ipython",
    "version": 3
   },
   "file_extension": ".py",
   "mimetype": "text/x-python",
   "name": "python",
   "nbconvert_exporter": "python",
   "pygments_lexer": "ipython3",
   "version": "3.10.0"
  }
 },
 "nbformat": 4,
 "nbformat_minor": 2
}
